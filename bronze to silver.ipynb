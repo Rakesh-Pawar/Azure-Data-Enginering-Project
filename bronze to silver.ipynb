{
 "cells": [
  {
   "cell_type": "markdown",
   "metadata": {
    "application/vnd.databricks.v1+cell": {
     "cellMetadata": {},
     "inputWidgets": {},
     "nuid": "d5403438-8c6d-484f-be7c-2781a061a7a6",
     "showTitle": false,
     "title": ""
    }
   },
   "source": [
    "\n",
    "## Transformation for each table"
   ]
  },
  {
   "cell_type": "code",
   "execution_count": 0,
   "metadata": {
    "application/vnd.databricks.v1+cell": {
     "cellMetadata": {
      "byteLimit": 2048000,
      "rowLimit": 10000
     },
     "inputWidgets": {},
     "nuid": "0745d2e7-6dab-4ab0-a9e9-6b5849128b0f",
     "showTitle": false,
     "title": ""
    }
   },
   "outputs": [
    {
     "output_type": "display_data",
     "data": {
      "text/html": [
       "<style scoped>\n",
       "  .table-result-container {\n",
       "    max-height: 300px;\n",
       "    overflow: auto;\n",
       "  }\n",
       "  table, th, td {\n",
       "    border: 1px solid black;\n",
       "    border-collapse: collapse;\n",
       "  }\n",
       "  th, td {\n",
       "    padding: 5px;\n",
       "  }\n",
       "  th {\n",
       "    text-align: left;\n",
       "  }\n",
       "</style><div class='table-result-container'><table class='table-result'><thead style='background-color: white'><tr><th>path</th><th>name</th><th>size</th><th>modificationTime</th></tr></thead><tbody><tr><td>dbfs:/mnt/bronze/SalesLT/Address/</td><td>Address/</td><td>0</td><td>1698590335000</td></tr><tr><td>dbfs:/mnt/bronze/SalesLT/Customer/</td><td>Customer/</td><td>0</td><td>1698590332000</td></tr><tr><td>dbfs:/mnt/bronze/SalesLT/CustomerAddress/</td><td>CustomerAddress/</td><td>0</td><td>1698590332000</td></tr><tr><td>dbfs:/mnt/bronze/SalesLT/Product/</td><td>Product/</td><td>0</td><td>1698590329000</td></tr><tr><td>dbfs:/mnt/bronze/SalesLT/ProductCategory/</td><td>ProductCategory/</td><td>0</td><td>1698590333000</td></tr><tr><td>dbfs:/mnt/bronze/SalesLT/ProductDescription/</td><td>ProductDescription/</td><td>0</td><td>1698590332000</td></tr><tr><td>dbfs:/mnt/bronze/SalesLT/ProductModel/</td><td>ProductModel/</td><td>0</td><td>1698590335000</td></tr><tr><td>dbfs:/mnt/bronze/SalesLT/ProductModelProductDescription/</td><td>ProductModelProductDescription/</td><td>0</td><td>1698590332000</td></tr><tr><td>dbfs:/mnt/bronze/SalesLT/SalesOrderDetail/</td><td>SalesOrderDetail/</td><td>0</td><td>1698590331000</td></tr><tr><td>dbfs:/mnt/bronze/SalesLT/SalesOrderHeader/</td><td>SalesOrderHeader/</td><td>0</td><td>1698590329000</td></tr></tbody></table></div>"
      ]
     },
     "metadata": {
      "application/vnd.databricks.v1+output": {
       "addedWidgets": {},
       "aggData": [],
       "aggError": "",
       "aggOverflow": false,
       "aggSchema": [],
       "aggSeriesLimitReached": false,
       "aggType": "",
       "arguments": {},
       "columnCustomDisplayInfos": {},
       "data": [
        [
         "dbfs:/mnt/bronze/SalesLT/Address/",
         "Address/",
         0,
         1698590335000
        ],
        [
         "dbfs:/mnt/bronze/SalesLT/Customer/",
         "Customer/",
         0,
         1698590332000
        ],
        [
         "dbfs:/mnt/bronze/SalesLT/CustomerAddress/",
         "CustomerAddress/",
         0,
         1698590332000
        ],
        [
         "dbfs:/mnt/bronze/SalesLT/Product/",
         "Product/",
         0,
         1698590329000
        ],
        [
         "dbfs:/mnt/bronze/SalesLT/ProductCategory/",
         "ProductCategory/",
         0,
         1698590333000
        ],
        [
         "dbfs:/mnt/bronze/SalesLT/ProductDescription/",
         "ProductDescription/",
         0,
         1698590332000
        ],
        [
         "dbfs:/mnt/bronze/SalesLT/ProductModel/",
         "ProductModel/",
         0,
         1698590335000
        ],
        [
         "dbfs:/mnt/bronze/SalesLT/ProductModelProductDescription/",
         "ProductModelProductDescription/",
         0,
         1698590332000
        ],
        [
         "dbfs:/mnt/bronze/SalesLT/SalesOrderDetail/",
         "SalesOrderDetail/",
         0,
         1698590331000
        ],
        [
         "dbfs:/mnt/bronze/SalesLT/SalesOrderHeader/",
         "SalesOrderHeader/",
         0,
         1698590329000
        ]
       ],
       "datasetInfos": [],
       "dbfsResultPath": null,
       "isJsonSchema": true,
       "metadata": {},
       "overflow": false,
       "plotOptions": {
        "customPlotOptions": {},
        "displayType": "table",
        "pivotAggregation": null,
        "pivotColumns": null,
        "xColumns": null,
        "yColumns": null
       },
       "removedWidgets": [],
       "schema": [
        {
         "metadata": "{}",
         "name": "path",
         "type": "\"string\""
        },
        {
         "metadata": "{}",
         "name": "name",
         "type": "\"string\""
        },
        {
         "metadata": "{}",
         "name": "size",
         "type": "\"long\""
        },
        {
         "metadata": "{}",
         "name": "modificationTime",
         "type": "\"long\""
        }
       ],
       "type": "table"
      }
     },
     "output_type": "display_data"
    }
   ],
   "source": [
    "# tables name\n",
    "\n",
    "display(dbutils.fs.ls('/mnt/bronze/SalesLT/'))"
   ]
  },
  {
   "cell_type": "code",
   "execution_count": 0,
   "metadata": {
    "application/vnd.databricks.v1+cell": {
     "cellMetadata": {
      "byteLimit": 2048000,
      "rowLimit": 10000
     },
     "inputWidgets": {},
     "nuid": "eba1b1f1-f2ec-4cb4-a077-1e2f490c0296",
     "showTitle": false,
     "title": ""
    }
   },
   "outputs": [
    {
     "output_type": "execute_result",
     "data": {
      "text/plain": [
       "['Address',\n",
       " 'Customer',\n",
       " 'CustomerAddress',\n",
       " 'Product',\n",
       " 'ProductCategory',\n",
       " 'ProductDescription',\n",
       " 'ProductModel',\n",
       " 'ProductModelProductDescription',\n",
       " 'SalesOrderDetail',\n",
       " 'SalesOrderHeader']"
      ]
     },
     "execution_count": 2,
     "metadata": {},
     "output_type": "execute_result"
    }
   ],
   "source": [
    "tables_name = []\n",
    "dbfs_path = dbutils.fs.ls('/mnt/bronze/SalesLT/')\n",
    "for col in dbfs_path:\n",
    "    tables_name.append(col.name.split('/')[0])\n",
    "tables_name"
   ]
  },
  {
   "cell_type": "code",
   "execution_count": 0,
   "metadata": {
    "application/vnd.databricks.v1+cell": {
     "cellMetadata": {
      "byteLimit": 2048000,
      "rowLimit": 10000
     },
     "inputWidgets": {},
     "nuid": "dca2ef8d-9bb5-4a57-89c7-a527c762357b",
     "showTitle": false,
     "title": ""
    }
   },
   "outputs": [
    {
     "output_type": "stream",
     "name": "stdout",
     "output_type": "stream",
     "text": [
      "OrderDate\nDueDate\nShipDate\nModifiedDate\n"
     ]
    }
   ],
   "source": [
    "for i in tables_name:\n",
    "    path = '/mnt/bronze/SalesLT/'+i +'/' \n",
    "    df = spark.read.format('parquet').load(path)\n",
    "    column = df.columns\n",
    "\n",
    "for col in column:\n",
    "    if 'Date' in col or 'date ' in col:\n",
    "        print(col)"
   ]
  },
  {
   "cell_type": "code",
   "execution_count": 0,
   "metadata": {
    "application/vnd.databricks.v1+cell": {
     "cellMetadata": {
      "byteLimit": 2048000,
      "rowLimit": 10000
     },
     "inputWidgets": {},
     "nuid": "f53ca280-0ab5-431d-a794-3b93a30981da",
     "showTitle": false,
     "title": ""
    }
   },
   "outputs": [],
   "source": [
    "from pyspark.sql.types import *\n",
    "from pyspark.sql.functions import *\n",
    "\n",
    "# # tranform above date columns \n",
    "# for i in tables_name:\n",
    "#     path = '/mnt/bronze/SalesLT/'+i +'/' \n",
    "#     df = spark.read.format('parquet').load(path)\n",
    "#     column = df.columns\n",
    "#     for col in column:\n",
    "#         if 'Date' in col or 'date ' in col:\n",
    "            # df = df.withColumn(col, date_format(from_utc_timestamp(df[col].cast(TimestampType()),'UTC'), 'yyyy-MM-dd'))"
   ]
  },
  {
   "cell_type": "code",
   "execution_count": 0,
   "metadata": {
    "application/vnd.databricks.v1+cell": {
     "cellMetadata": {
      "byteLimit": 2048000,
      "rowLimit": 10000
     },
     "inputWidgets": {},
     "nuid": "a692c290-5880-4706-91ab-5c0a0197b8af",
     "showTitle": false,
     "title": ""
    }
   },
   "outputs": [],
   "source": [
    "# Complete code and save all tables transformation into silver cointaner \n",
    "for i in tables_name:\n",
    "    path = '/mnt/bronze/SalesLT/'+i +'/' \n",
    "    df = spark.read.format('parquet').load(path)\n",
    "    column = df.columns\n",
    "    for col in column:\n",
    "        if 'Date' in col or 'date ' in col:\n",
    "            df = df.withColumn(col, date_format(from_utc_timestamp(df[col].cast(TimestampType()),'UTC'), 'yyyy-MM-dd'))\n",
    "    output_path = '/mnt/silver/SalesLT/'+i+'/'\n",
    "    df.write.format('delta').mode('overwrite').save(output_path)"
   ]
  },
  {
   "cell_type": "code",
   "execution_count": 0,
   "metadata": {
    "application/vnd.databricks.v1+cell": {
     "cellMetadata": {},
     "inputWidgets": {},
     "nuid": "f3a2a91a-92a9-4545-88f2-e14eb8557e66",
     "showTitle": false,
     "title": ""
    }
   },
   "outputs": [],
   "source": []
  }
 ],
 "metadata": {
  "application/vnd.databricks.v1+notebook": {
   "dashboards": [],
   "language": "python",
   "notebookMetadata": {
    "pythonIndentUnit": 4
   },
   "notebookName": "bronze to silver",
   "widgets": {}
  }
 },
 "nbformat": 4,
 "nbformat_minor": 0
}
